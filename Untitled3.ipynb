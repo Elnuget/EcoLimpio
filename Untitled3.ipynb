{
  "nbformat": 4,
  "nbformat_minor": 0,
  "metadata": {
    "colab": {
      "provenance": [],
      "authorship_tag": "ABX9TyNOo9bAbPNSecWalNw6LXaD",
      "include_colab_link": true
    },
    "kernelspec": {
      "name": "python3",
      "display_name": "Python 3"
    },
    "language_info": {
      "name": "python"
    }
  },
  "cells": [
    {
      "cell_type": "markdown",
      "metadata": {
        "id": "view-in-github",
        "colab_type": "text"
      },
      "source": [
        "<a href=\"https://colab.research.google.com/github/Elnuget/EcoLimpio/blob/main/Untitled3.ipynb\" target=\"_parent\"><img src=\"https://colab.research.google.com/assets/colab-badge.svg\" alt=\"Open In Colab\"/></a>"
      ]
    },
    {
      "cell_type": "code",
      "execution_count": 2,
      "metadata": {
        "colab": {
          "base_uri": "https://localhost:8080/"
        },
        "id": "JQVHxCJoOi7d",
        "outputId": "0c9eb8a1-a31e-47c5-dcf5-fb8bc1c4282f"
      },
      "outputs": [
        {
          "output_type": "stream",
          "name": "stdout",
          "text": [
            "1 \n",
            "1 2 \n",
            "1 2 3 \n",
            "1 2 3 4 \n",
            "1 2 3 4 5 \n"
          ]
        }
      ],
      "source": [
        "i = 1\n",
        "while i <= 5:\n",
        "    j = 1\n",
        "    while j <= i:\n",
        "        print(j, end=\" \")\n",
        "        j += 1\n",
        "    print()\n",
        "    i += 1\n"
      ]
    },
    {
      "cell_type": "code",
      "source": [
        "matriz1 = [[0] * tamaño for _ in range(tamaño)]\n",
        "matriz2 = [[0] * tamaño for _ in range(tamaño)]\n",
        "resultado = [[0] * tamaño for _ in range(tamaño)]\n",
        "\n",
        "print(\"Ingrese los valores para la matriz1:\")\n",
        "i = 0\n",
        "while i < tamaño:\n",
        "    j = 0\n",
        "    while j < tamaño:\n",
        "        matriz1[i][j] = int(input(f\"Ingrese el valor para la posición [{i+1}][{j+1}]: \"))\n",
        "        j += 1\n",
        "    i += 1\n",
        "\n",
        "print(\"Ingrese los valores para la matriz2:\")\n",
        "i = 0\n",
        "while i < tamaño:\n",
        "    j = 0\n",
        "    while j < tamaño:\n",
        "        matriz2[i][j] = int(input(f\"Ingrese el valor para la posición [{i+1}][{j+1}] en la matriz2: \"))\n",
        "        j += 1\n",
        "    i += 1\n",
        "\n",
        "i = 0\n",
        "while i < tamaño:\n",
        "    j = 0\n",
        "    while j < tamaño:\n",
        "        resultado[i][j] = matriz1[i][j] + matriz2[i][j]\n",
        "        j += 1\n",
        "    i += 1\n",
        "\n",
        "print(\"El Resultado de la suma de matrices es:\")\n",
        "i = 0\n",
        "while i < tamaño:\n",
        "    print(resultado[i])\n",
        "    i += 1\n"
      ],
      "metadata": {
        "colab": {
          "base_uri": "https://localhost:8080/"
        },
        "id": "HZKOEgdKPrCM",
        "outputId": "e182bb3d-b024-43c1-d826-d3dd86208d85"
      },
      "execution_count": null,
      "outputs": [
        {
          "output_type": "stream",
          "name": "stdout",
          "text": [
            "Ingrese los valores para la matriz1:\n"
          ]
        }
      ]
    },
    {
      "cell_type": "code",
      "source": [
        "i = 0\n",
        "while i < 8:\n",
        "    j = 0\n",
        "    while j < 8:\n",
        "        if (i + j) % 2 == 0:\n",
        "            print(\"X\", end=\" \")\n",
        "        else:\n",
        "            print(\"O\", end=\" \")\n",
        "        j += 1\n",
        "    print()\n",
        "    i += 1\n"
      ],
      "metadata": {
        "colab": {
          "base_uri": "https://localhost:8080/"
        },
        "id": "6s565wQ-RElU",
        "outputId": "da42bc20-671d-4f72-ad03-c8bc1ab8663f"
      },
      "execution_count": 12,
      "outputs": [
        {
          "output_type": "stream",
          "name": "stdout",
          "text": [
            "X O X O X O X O \n",
            "O X O X O X O X \n",
            "X O X O X O X O \n",
            "O X O X O X O X \n",
            "X O X O X O X O \n",
            "O X O X O X O X \n",
            "X O X O X O X O \n",
            "O X O X O X O X \n"
          ]
        }
      ]
    },
    {
      "cell_type": "code",
      "source": [
        "i = 1\n",
        "while i < 6:\n",
        "    j = 0\n",
        "    while j < i:\n",
        "        print(i, end=\" \")\n",
        "        j += 1\n",
        "    print()\n",
        "    i += 1"
      ],
      "metadata": {
        "colab": {
          "base_uri": "https://localhost:8080/"
        },
        "id": "cVgjNz2IRFDY",
        "outputId": "80c778f8-a4a6-4b29-bd1e-b8594ac01ba6"
      },
      "execution_count": 10,
      "outputs": [
        {
          "output_type": "stream",
          "name": "stdout",
          "text": [
            "1 \n",
            "2 2 \n",
            "3 3 3 \n",
            "4 4 4 4 \n",
            "5 5 5 5 5 \n"
          ]
        }
      ]
    }
  ]
}